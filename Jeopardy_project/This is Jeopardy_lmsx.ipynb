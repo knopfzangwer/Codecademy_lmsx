{
 "cells": [
  {
   "cell_type": "markdown",
   "metadata": {},
   "source": [
    "# This is Jeopardy!"
   ]
  },
  {
   "cell_type": "markdown",
   "metadata": {},
   "source": [
    "#### Overview"
   ]
  },
  {
   "cell_type": "markdown",
   "metadata": {},
   "source": [
    "This project is slightly different than others you have encountered thus far. Instead of a step-by-step tutorial, this project contains a series of open-ended requirements which describe the project you'll be building. There are many possible ways to correctly fulfill all of these requirements, and you should expect to use the internet, Codecademy, and/or other resources when you encounter a problem that you cannot easily solve."
   ]
  },
  {
   "cell_type": "markdown",
   "metadata": {},
   "source": [
    "#### Project Goals"
   ]
  },
  {
   "cell_type": "markdown",
   "metadata": {},
   "source": [
    "You will work to write several functions that investigate a dataset of _Jeopardy!_ questions and answers. Filter the dataset for topics that you're interested in, compute the average difficulty of those questions, and train to become the next Jeopardy champion!"
   ]
  },
  {
   "cell_type": "markdown",
   "metadata": {},
   "source": [
    "## Prerequisites"
   ]
  },
  {
   "cell_type": "markdown",
   "metadata": {},
   "source": [
    "In order to complete this project, you should have completed the Pandas lessons in the <a href=\"https://www.codecademy.com/learn/paths/analyze-data-with-python\">Analyze Data with Python Skill Path</a>. You can also find those lessons in the <a href=\"https://www.codecademy.com/learn/data-processing-pandas\">Data Analysis with Pandas course</a> or the <a href=\"https://www.codecademy.com/learn/paths/data-science/\">Data Scientist Career Path</a>.\n",
    "\n",
    "Finally, the <a href=\"https://www.codecademy.com/learn/practical-data-cleaning\">Practical Data Cleaning</a> course may also be helpful."
   ]
  },
  {
   "cell_type": "markdown",
   "metadata": {},
   "source": [
    "## Project Requirements"
   ]
  },
  {
   "cell_type": "markdown",
   "metadata": {},
   "source": [
    "1. We've provided a csv file containing data about the game show _Jeopardy!_ in a file named `jeopardy.csv`. Load the data into a DataFrame and investigate its contents. Try to print out specific columns.\n",
    "\n",
    "   Note that in order to make this project as \"real-world\" as possible, we haven't modified the data at all - we're giving it to you exactly how we found it. As a result, this data isn't as \"clean\" as the datasets you normally find on Codecademy. More specifically, there's something odd about the column names. After you figure out the problem with the column names, you may want to rename them to make your life easier for the rest of the project.\n",
    "   \n",
    "   In order to display the full contents of a column, we've added this line of code for you:"
   ]
  },
  {
   "cell_type": "code",
   "execution_count": 36,
   "metadata": {},
   "outputs": [
    {
     "data": {
      "text/plain": "   show_number    air_date      round                         category value  \\\n0         4680  2004-12-31  Jeopardy!                          HISTORY  $200   \n1         4680  2004-12-31  Jeopardy!  ESPN's TOP 10 ALL-TIME ATHLETES  $200   \n2         4680  2004-12-31  Jeopardy!      EVERYBODY TALKS ABOUT IT...  $200   \n3         4680  2004-12-31  Jeopardy!                 THE COMPANY LINE  $200   \n4         4680  2004-12-31  Jeopardy!              EPITAPHS & TRIBUTES  $200   \n\n                                                                                                      question  \\\n0             For the last 8 years of his life, Galileo was under house arrest for espousing this man's theory   \n1  No. 2: 1912 Olympian; football star at Carlisle Indian School; 6 MLB seasons with the Reds, Giants & Braves   \n2                     The city of Yuma in this state has a record average of 4,055 hours of sunshine each year   \n3                         In 1963, live on \"The Art Linkletter Show\", this company served its billionth burger   \n4     Signer of the Dec. of Indep., framer of the Constitution of Mass., second President of the United States   \n\n       answer  \n0  Copernicus  \n1  Jim Thorpe  \n2     Arizona  \n3  McDonald's  \n4  John Adams  ",
      "text/html": "<div>\n<style scoped>\n    .dataframe tbody tr th:only-of-type {\n        vertical-align: middle;\n    }\n\n    .dataframe tbody tr th {\n        vertical-align: top;\n    }\n\n    .dataframe thead th {\n        text-align: right;\n    }\n</style>\n<table border=\"1\" class=\"dataframe\">\n  <thead>\n    <tr style=\"text-align: right;\">\n      <th></th>\n      <th>show_number</th>\n      <th>air_date</th>\n      <th>round</th>\n      <th>category</th>\n      <th>value</th>\n      <th>question</th>\n      <th>answer</th>\n    </tr>\n  </thead>\n  <tbody>\n    <tr>\n      <th>0</th>\n      <td>4680</td>\n      <td>2004-12-31</td>\n      <td>Jeopardy!</td>\n      <td>HISTORY</td>\n      <td>$200</td>\n      <td>For the last 8 years of his life, Galileo was under house arrest for espousing this man's theory</td>\n      <td>Copernicus</td>\n    </tr>\n    <tr>\n      <th>1</th>\n      <td>4680</td>\n      <td>2004-12-31</td>\n      <td>Jeopardy!</td>\n      <td>ESPN's TOP 10 ALL-TIME ATHLETES</td>\n      <td>$200</td>\n      <td>No. 2: 1912 Olympian; football star at Carlisle Indian School; 6 MLB seasons with the Reds, Giants &amp; Braves</td>\n      <td>Jim Thorpe</td>\n    </tr>\n    <tr>\n      <th>2</th>\n      <td>4680</td>\n      <td>2004-12-31</td>\n      <td>Jeopardy!</td>\n      <td>EVERYBODY TALKS ABOUT IT...</td>\n      <td>$200</td>\n      <td>The city of Yuma in this state has a record average of 4,055 hours of sunshine each year</td>\n      <td>Arizona</td>\n    </tr>\n    <tr>\n      <th>3</th>\n      <td>4680</td>\n      <td>2004-12-31</td>\n      <td>Jeopardy!</td>\n      <td>THE COMPANY LINE</td>\n      <td>$200</td>\n      <td>In 1963, live on \"The Art Linkletter Show\", this company served its billionth burger</td>\n      <td>McDonald's</td>\n    </tr>\n    <tr>\n      <th>4</th>\n      <td>4680</td>\n      <td>2004-12-31</td>\n      <td>Jeopardy!</td>\n      <td>EPITAPHS &amp; TRIBUTES</td>\n      <td>$200</td>\n      <td>Signer of the Dec. of Indep., framer of the Constitution of Mass., second President of the United States</td>\n      <td>John Adams</td>\n    </tr>\n  </tbody>\n</table>\n</div>"
     },
     "metadata": {},
     "output_type": "display_data"
    },
    {
     "data": {
      "text/plain": "show_number                            4346\nair_date                         2003-06-23\nround                             Jeopardy!\ncategory                      GOING \"N\"SANE\nvalue                                  $200\nquestion       It often precedes \"and void\"\nanswer                                 Null\nName: 94817, dtype: object"
     },
     "metadata": {},
     "output_type": "display_data"
    }
   ],
   "source": [
    "import pandas as pd\n",
    "pd.set_option('display.max_colwidth', None)\n",
    "\n",
    "jeopardy = pd.read_csv('jeopardy.csv')\n",
    "# display(jeopardy.head())\n",
    "# print(jeopardy.info())\n",
    "\n",
    "jeopardy.rename(columns = {'Show Number': 'show_number', ' Air Date': 'air_date', ' Round': 'round',\n",
    "                           ' Category': 'category', ' Value': 'value', ' Question': 'question', ' Answer': 'answer'}, inplace = True)\n",
    "\n",
    "jeopardy.columns = jeopardy.columns.str.strip()\n",
    "df_null = jeopardy[jeopardy.answer.isnull()]\n",
    "\n",
    "jeopardy.loc[jeopardy.answer.isnull(), 'answer'] = \"Null\"\n",
    "display(jeopardy.head())\n",
    "# print(jeopardy.info())\n",
    "display(jeopardy.iloc[94817])"
   ]
  },
  {
   "cell_type": "markdown",
   "metadata": {},
   "source": [
    "2. Write a function that filters the dataset for questions that contains all of the words in a list of words. For example, when the list `[\"King\", \"England\"]` was passed to our function, the function returned a DataFrame of 49 rows. Every row had the strings `\"King\"` and `\"England\"` somewhere in its `\" Question\"`.\n",
    "\n",
    "   Test your function by printing out the column containing the question of each row of the dataset."
   ]
  },
  {
   "cell_type": "code",
   "execution_count": 37,
   "metadata": {},
   "outputs": [
    {
     "data": {
      "text/plain": "        show_number    air_date             round               category  \\\n4953           3003  1997-09-24  Double Jeopardy!           \"PH\"UN WORDS   \n6337           3517  1999-12-14  Double Jeopardy!                    Y1K   \n9191           3907  2001-09-04  Double Jeopardy!         WON THE BATTLE   \n11710          2903  1997-03-26  Double Jeopardy!       BRITISH MONARCHS   \n13454          4726  2005-03-07         Jeopardy!  A NUMBER FROM 1 TO 10   \n...             ...         ...               ...                    ...   \n208295         4621  2004-10-11         Jeopardy!            THE VIKINGS   \n208742         4863  2005-11-02  Double Jeopardy!         BEFORE & AFTER   \n213870         5856  2010-02-15  Double Jeopardy!                 URANUS   \n216021         1881  1992-11-09  Double Jeopardy!         HISTORIC NAMES   \n216789         5070  2006-09-29  Double Jeopardy!        ANCIENT HISTORY   \n\n         value  \\\n4953      $200   \n6337      $800   \n9191      $800   \n11710     $600   \n13454    $1000   \n...        ...   \n208295    $600   \n208742  $3,000   \n213870   $1600   \n216021   $1000   \n216789   $1200   \n\n                                                                                                      question  \\\n4953                  Both England's King George V & FDR put their stamp of approval on this \"King of Hobbies\"   \n6337    In retaliation for Viking raids, this \"Unready\" king of England attacks Norse areas of the Isle of Man   \n9191                  This king of England beat the odds to trounce the French in the 1415 Battle of Agincourt   \n11710             This Scotsman, the first Stuart king of England, was called \"The Wisest Fool in Christendom\"   \n13454                                     It's the number that followed the last king of England named William   \n...                                                                                                        ...   \n208295      In 1066 this great-great grandson of Rollo made what some call the last Viking invasion of England   \n208742                    Dutch-born king who ruled England jointly with Mary II & is a tasty New Zealand fish   \n213870              In 1781 William Herschel discovered Uranus & initially named it after this king of England   \n216021        His nickname was \"Bertie\", but he used this name & number when he became king of England in 1901   \n216789      This kingdom of England grew from 2 settlements, one founded around 495 by Cerdic & his son Cynric   \n\n                              answer  \n4953    Philately (stamp collecting)  \n6337                        Ethelred  \n9191                         Henry V  \n11710                        James I  \n13454                              4  \n...                              ...  \n208295         William the Conqueror  \n208742      William of Orange roughy  \n213870                    George III  \n216021                    Edward VII  \n216789                        Wessex  \n\n[152 rows x 7 columns]",
      "text/html": "<div>\n<style scoped>\n    .dataframe tbody tr th:only-of-type {\n        vertical-align: middle;\n    }\n\n    .dataframe tbody tr th {\n        vertical-align: top;\n    }\n\n    .dataframe thead th {\n        text-align: right;\n    }\n</style>\n<table border=\"1\" class=\"dataframe\">\n  <thead>\n    <tr style=\"text-align: right;\">\n      <th></th>\n      <th>show_number</th>\n      <th>air_date</th>\n      <th>round</th>\n      <th>category</th>\n      <th>value</th>\n      <th>question</th>\n      <th>answer</th>\n    </tr>\n  </thead>\n  <tbody>\n    <tr>\n      <th>4953</th>\n      <td>3003</td>\n      <td>1997-09-24</td>\n      <td>Double Jeopardy!</td>\n      <td>\"PH\"UN WORDS</td>\n      <td>$200</td>\n      <td>Both England's King George V &amp; FDR put their stamp of approval on this \"King of Hobbies\"</td>\n      <td>Philately (stamp collecting)</td>\n    </tr>\n    <tr>\n      <th>6337</th>\n      <td>3517</td>\n      <td>1999-12-14</td>\n      <td>Double Jeopardy!</td>\n      <td>Y1K</td>\n      <td>$800</td>\n      <td>In retaliation for Viking raids, this \"Unready\" king of England attacks Norse areas of the Isle of Man</td>\n      <td>Ethelred</td>\n    </tr>\n    <tr>\n      <th>9191</th>\n      <td>3907</td>\n      <td>2001-09-04</td>\n      <td>Double Jeopardy!</td>\n      <td>WON THE BATTLE</td>\n      <td>$800</td>\n      <td>This king of England beat the odds to trounce the French in the 1415 Battle of Agincourt</td>\n      <td>Henry V</td>\n    </tr>\n    <tr>\n      <th>11710</th>\n      <td>2903</td>\n      <td>1997-03-26</td>\n      <td>Double Jeopardy!</td>\n      <td>BRITISH MONARCHS</td>\n      <td>$600</td>\n      <td>This Scotsman, the first Stuart king of England, was called \"The Wisest Fool in Christendom\"</td>\n      <td>James I</td>\n    </tr>\n    <tr>\n      <th>13454</th>\n      <td>4726</td>\n      <td>2005-03-07</td>\n      <td>Jeopardy!</td>\n      <td>A NUMBER FROM 1 TO 10</td>\n      <td>$1000</td>\n      <td>It's the number that followed the last king of England named William</td>\n      <td>4</td>\n    </tr>\n    <tr>\n      <th>...</th>\n      <td>...</td>\n      <td>...</td>\n      <td>...</td>\n      <td>...</td>\n      <td>...</td>\n      <td>...</td>\n      <td>...</td>\n    </tr>\n    <tr>\n      <th>208295</th>\n      <td>4621</td>\n      <td>2004-10-11</td>\n      <td>Jeopardy!</td>\n      <td>THE VIKINGS</td>\n      <td>$600</td>\n      <td>In 1066 this great-great grandson of Rollo made what some call the last Viking invasion of England</td>\n      <td>William the Conqueror</td>\n    </tr>\n    <tr>\n      <th>208742</th>\n      <td>4863</td>\n      <td>2005-11-02</td>\n      <td>Double Jeopardy!</td>\n      <td>BEFORE &amp; AFTER</td>\n      <td>$3,000</td>\n      <td>Dutch-born king who ruled England jointly with Mary II &amp; is a tasty New Zealand fish</td>\n      <td>William of Orange roughy</td>\n    </tr>\n    <tr>\n      <th>213870</th>\n      <td>5856</td>\n      <td>2010-02-15</td>\n      <td>Double Jeopardy!</td>\n      <td>URANUS</td>\n      <td>$1600</td>\n      <td>In 1781 William Herschel discovered Uranus &amp; initially named it after this king of England</td>\n      <td>George III</td>\n    </tr>\n    <tr>\n      <th>216021</th>\n      <td>1881</td>\n      <td>1992-11-09</td>\n      <td>Double Jeopardy!</td>\n      <td>HISTORIC NAMES</td>\n      <td>$1000</td>\n      <td>His nickname was \"Bertie\", but he used this name &amp; number when he became king of England in 1901</td>\n      <td>Edward VII</td>\n    </tr>\n    <tr>\n      <th>216789</th>\n      <td>5070</td>\n      <td>2006-09-29</td>\n      <td>Double Jeopardy!</td>\n      <td>ANCIENT HISTORY</td>\n      <td>$1200</td>\n      <td>This kingdom of England grew from 2 settlements, one founded around 495 by Cerdic &amp; his son Cynric</td>\n      <td>Wessex</td>\n    </tr>\n  </tbody>\n</table>\n<p>152 rows × 7 columns</p>\n</div>"
     },
     "metadata": {},
     "output_type": "display_data"
    }
   ],
   "source": [
    "def busca_questoes_geral(dados, nomes):\n",
    "    filtro = lambda x: all(palavra.lower() in x.lower() for palavra in nomes)\n",
    "    return dados.loc[dados[\"question\"].apply(filtro)]\n",
    "\n",
    "lista = [\"King\", \"England\"]\n",
    "df_geral = busca_questoes_geral(jeopardy, lista)\n",
    "display(df_geral)"
   ]
  },
  {
   "cell_type": "markdown",
   "metadata": {},
   "source": [
    "3. Test your original function with a few different sets of words to try to find some ways your function breaks. Edit your function so it is more robust.\n",
    "\n",
    "   For example, think about capitalization. We probably want to find questions that contain the word `\"King\"` or `\"king\"`.\n",
    "   \n",
    "   You may also want to check to make sure you don't find rows that contain substrings of your given words. For example, our function found a question that didn't contain the word `\"king\"`, however it did contain the word `\"viking\"` &mdash; it found the `\"king\"` inside `\"viking\"`. Note that this also comes with some drawbacks &mdash; you would no longer find questions that contained words like `\"England's\"`."
   ]
  },
  {
   "cell_type": "code",
   "execution_count": 38,
   "metadata": {},
   "outputs": [
    {
     "data": {
      "text/plain": "        show_number    air_date             round                    category  \\\n40             4680  2004-12-31  Double Jeopardy!  DR. SEUSS AT THE MULTIPLEX   \n781            4335  2003-06-06         Jeopardy!                   MY PLACE?   \n811            4335  2003-06-06  Double Jeopardy!                 \"S\"-OTERICA   \n846            4541  2004-05-10         Jeopardy!                 U.S. STATES   \n896            3834  2001-04-12         Jeopardy!          AIN'T THAT AMERICA   \n...             ...         ...               ...                         ...   \n216232         1251  1990-01-29         Jeopardy!                THANKS, GUYS   \n216445         3644  2000-06-08   Final Jeopardy!                   THE BIBLE   \n216612         2046  1993-06-28  Double Jeopardy!             BIBLICAL PEOPLE   \n216752         5070  2006-09-29         Jeopardy!                 SIGNING OFF   \n216777         5070  2006-09-29  Double Jeopardy!             ANCIENT HISTORY   \n\n        value  \\\n40      $1200   \n781      $200   \n811      $400   \n846      $400   \n896      $200   \n...       ...   \n216232   $400   \n216445   None   \n216612   $600   \n216752   $200   \n216777   $400   \n\n                                                                                                                                                                                 question  \\\n40      <a href=\"http://www.j-archive.com/media/2004-12-31_DJ_26.mp3\">Ripped from today's headlines, he was a turtle king gone mad; Mack was the one good turtle who'd bring him down</a>   \n781                                                                                                              A Norman could say, \"I'm the king of the motte-and-bailey style of\" this   \n811                                                                                                        Examples of this TV format include \"Leave It to Beaver\" & \"The King of Queens\"   \n846                                                                                                                                      It's the only U.S. state named for a French king   \n896                                                                                                              This state was named for a man who was a European king from 1643 to 1715   \n...                                                                                                                                                                                   ...   \n216232                                                                                                            When we need to know about this, the King of Beers, we call Mary McHugh   \n216445                                                                                               According to the King James Version of the Bible, the number of people on Noah's Ark   \n216612                                                                                                                             Her 2 husbands were Uriah the Hittite & David the king   \n216752                                                                       Upon signing his name in 1776 he said, \"There, King George will be able to read that without his spectacles\"   \n216777                                                                 The first one of these tombs was built about 2650 B.C. by Imhotep for King Zoser & rose about 200 feet using steps   \n\n                                   answer  \n40                                 Yertle  \n781                                castle  \n811                                sitcom  \n846                             Louisiana  \n896                             Louisiana  \n...                                   ...  \n216232                          Budweiser  \n216445                                  8  \n216612                          Bathsheba  \n216752                     (John) Hancock  \n216777  a pyramid (the pyramids accepted)  \n\n[2075 rows x 7 columns]",
      "text/html": "<div>\n<style scoped>\n    .dataframe tbody tr th:only-of-type {\n        vertical-align: middle;\n    }\n\n    .dataframe tbody tr th {\n        vertical-align: top;\n    }\n\n    .dataframe thead th {\n        text-align: right;\n    }\n</style>\n<table border=\"1\" class=\"dataframe\">\n  <thead>\n    <tr style=\"text-align: right;\">\n      <th></th>\n      <th>show_number</th>\n      <th>air_date</th>\n      <th>round</th>\n      <th>category</th>\n      <th>value</th>\n      <th>question</th>\n      <th>answer</th>\n    </tr>\n  </thead>\n  <tbody>\n    <tr>\n      <th>40</th>\n      <td>4680</td>\n      <td>2004-12-31</td>\n      <td>Double Jeopardy!</td>\n      <td>DR. SEUSS AT THE MULTIPLEX</td>\n      <td>$1200</td>\n      <td>&lt;a href=\"http://www.j-archive.com/media/2004-12-31_DJ_26.mp3\"&gt;Ripped from today's headlines, he was a turtle king gone mad; Mack was the one good turtle who'd bring him down&lt;/a&gt;</td>\n      <td>Yertle</td>\n    </tr>\n    <tr>\n      <th>781</th>\n      <td>4335</td>\n      <td>2003-06-06</td>\n      <td>Jeopardy!</td>\n      <td>MY PLACE?</td>\n      <td>$200</td>\n      <td>A Norman could say, \"I'm the king of the motte-and-bailey style of\" this</td>\n      <td>castle</td>\n    </tr>\n    <tr>\n      <th>811</th>\n      <td>4335</td>\n      <td>2003-06-06</td>\n      <td>Double Jeopardy!</td>\n      <td>\"S\"-OTERICA</td>\n      <td>$400</td>\n      <td>Examples of this TV format include \"Leave It to Beaver\" &amp; \"The King of Queens\"</td>\n      <td>sitcom</td>\n    </tr>\n    <tr>\n      <th>846</th>\n      <td>4541</td>\n      <td>2004-05-10</td>\n      <td>Jeopardy!</td>\n      <td>U.S. STATES</td>\n      <td>$400</td>\n      <td>It's the only U.S. state named for a French king</td>\n      <td>Louisiana</td>\n    </tr>\n    <tr>\n      <th>896</th>\n      <td>3834</td>\n      <td>2001-04-12</td>\n      <td>Jeopardy!</td>\n      <td>AIN'T THAT AMERICA</td>\n      <td>$200</td>\n      <td>This state was named for a man who was a European king from 1643 to 1715</td>\n      <td>Louisiana</td>\n    </tr>\n    <tr>\n      <th>...</th>\n      <td>...</td>\n      <td>...</td>\n      <td>...</td>\n      <td>...</td>\n      <td>...</td>\n      <td>...</td>\n      <td>...</td>\n    </tr>\n    <tr>\n      <th>216232</th>\n      <td>1251</td>\n      <td>1990-01-29</td>\n      <td>Jeopardy!</td>\n      <td>THANKS, GUYS</td>\n      <td>$400</td>\n      <td>When we need to know about this, the King of Beers, we call Mary McHugh</td>\n      <td>Budweiser</td>\n    </tr>\n    <tr>\n      <th>216445</th>\n      <td>3644</td>\n      <td>2000-06-08</td>\n      <td>Final Jeopardy!</td>\n      <td>THE BIBLE</td>\n      <td>None</td>\n      <td>According to the King James Version of the Bible, the number of people on Noah's Ark</td>\n      <td>8</td>\n    </tr>\n    <tr>\n      <th>216612</th>\n      <td>2046</td>\n      <td>1993-06-28</td>\n      <td>Double Jeopardy!</td>\n      <td>BIBLICAL PEOPLE</td>\n      <td>$600</td>\n      <td>Her 2 husbands were Uriah the Hittite &amp; David the king</td>\n      <td>Bathsheba</td>\n    </tr>\n    <tr>\n      <th>216752</th>\n      <td>5070</td>\n      <td>2006-09-29</td>\n      <td>Jeopardy!</td>\n      <td>SIGNING OFF</td>\n      <td>$200</td>\n      <td>Upon signing his name in 1776 he said, \"There, King George will be able to read that without his spectacles\"</td>\n      <td>(John) Hancock</td>\n    </tr>\n    <tr>\n      <th>216777</th>\n      <td>5070</td>\n      <td>2006-09-29</td>\n      <td>Double Jeopardy!</td>\n      <td>ANCIENT HISTORY</td>\n      <td>$400</td>\n      <td>The first one of these tombs was built about 2650 B.C. by Imhotep for King Zoser &amp; rose about 200 feet using steps</td>\n      <td>a pyramid (the pyramids accepted)</td>\n    </tr>\n  </tbody>\n</table>\n<p>2075 rows × 7 columns</p>\n</div>"
     },
     "metadata": {},
     "output_type": "display_data"
    }
   ],
   "source": [
    "def busca_questoes_exata(dados, nomes_buscados):\n",
    "\n",
    "    filtro_questoes = lambda questao: (frase_questao.lower() for frase_questao in questao.split())\n",
    "\n",
    "    filtro_palavras_especifica = lambda funcao: lambda questao: all(palavra.lower() in funcao(questao) for palavra in nomes_buscados)\n",
    "\n",
    "    jeopardy['filter_exact_words'] = dados.iloc[:, 5].apply(filtro_palavras_especifica(filtro_questoes))\n",
    "\n",
    "    filtro_exact = jeopardy[jeopardy.filter_exact_words == True].drop(columns = 'filter_exact_words')\n",
    "\n",
    "    return filtro_exact\n",
    "\n",
    "lista = [\"King\"]\n",
    "df_word_king = busca_questoes_exata(jeopardy, lista)\n",
    "display(df_word_king)"
   ]
  },
  {
   "cell_type": "markdown",
   "metadata": {},
   "source": [
    "4. We may want to eventually compute aggregate statistics, like `.mean()` on the `\" Value\"` column. But right now, the values in that column are strings. Convert the`\" Value\"` column to floats. If you'd like to, you can create a new column with float values.\n",
    "\n",
    "   Now that you can filter the dataset of question, use your new column that contains the float values of each question to find the \"difficulty\" of certain topics. For example, what is the average value of questions that contain the word `\"King\"`?\n",
    "   \n",
    "   Make sure to use the dataset that contains the float values as the dataset you use in your filtering function."
   ]
  },
  {
   "cell_type": "code",
   "execution_count": 42,
   "metadata": {},
   "outputs": [
    {
     "data": {
      "text/plain": "        show_number    air_date             round               category  \\\n6337           3517  1999-12-14  Double Jeopardy!                    Y1K   \n9191           3907  2001-09-04  Double Jeopardy!         WON THE BATTLE   \n13454          4726  2005-03-07         Jeopardy!  A NUMBER FROM 1 TO 10   \n14912          2832  1996-12-17         Jeopardy!          WORLD HISTORY   \n18076          3227  1998-09-22  Double Jeopardy!          WORLD HISTORY   \n...             ...         ...               ...                    ...   \n200369         2937  1997-05-13         Jeopardy!        BRITISH HISTORY   \n201168         3515  1999-12-10         Jeopardy!         BEFORE & AFTER   \n208742         4863  2005-11-02  Double Jeopardy!         BEFORE & AFTER   \n213870         5856  2010-02-15  Double Jeopardy!                 URANUS   \n216021         1881  1992-11-09  Double Jeopardy!         HISTORIC NAMES   \n\n         value  \\\n6337      $800   \n9191      $800   \n13454    $1000   \n14912     $100   \n18076    $1000   \n...        ...   \n200369    $200   \n201168    $500   \n208742  $3,000   \n213870   $1600   \n216021   $1000   \n\n                                                                                                               question  \\\n6337             In retaliation for Viking raids, this \"Unready\" king of England attacks Norse areas of the Isle of Man   \n9191                           This king of England beat the odds to trounce the French in the 1415 Battle of Agincourt   \n13454                                              It's the number that followed the last king of England named William   \n14912                 This country's King Louis IV was nicknamed \"Louis From Overseas\" because he was raised in England   \n18076                   In 1199 this crusader king of England was mortally wounded while besieging the castle of Chalus   \n...                                                                                                                 ...   \n200369  8th C. King Offa built a 170-mile north-south dike that still partly marks the border of England & this country   \n201168                                         Popular Saint-Exupery character waiting around to become king of England   \n208742                             Dutch-born king who ruled England jointly with Mary II & is a tasty New Zealand fish   \n213870                       In 1781 William Herschel discovered Uranus & initially named it after this king of England   \n216021                 His nickname was \"Bertie\", but he used this name & number when he became king of England in 1901   \n\n                            answer  \n6337                      Ethelred  \n9191                       Henry V  \n13454                            4  \n14912                       France  \n18076      Richard the Lionhearted  \n...                            ...  \n200369                       Wales  \n201168  The Little Prince of Wales  \n208742    William of Orange roughy  \n213870                  George III  \n216021                  Edward VII  \n\n[74 rows x 7 columns]",
      "text/html": "<div>\n<style scoped>\n    .dataframe tbody tr th:only-of-type {\n        vertical-align: middle;\n    }\n\n    .dataframe tbody tr th {\n        vertical-align: top;\n    }\n\n    .dataframe thead th {\n        text-align: right;\n    }\n</style>\n<table border=\"1\" class=\"dataframe\">\n  <thead>\n    <tr style=\"text-align: right;\">\n      <th></th>\n      <th>show_number</th>\n      <th>air_date</th>\n      <th>round</th>\n      <th>category</th>\n      <th>value</th>\n      <th>question</th>\n      <th>answer</th>\n    </tr>\n  </thead>\n  <tbody>\n    <tr>\n      <th>6337</th>\n      <td>3517</td>\n      <td>1999-12-14</td>\n      <td>Double Jeopardy!</td>\n      <td>Y1K</td>\n      <td>$800</td>\n      <td>In retaliation for Viking raids, this \"Unready\" king of England attacks Norse areas of the Isle of Man</td>\n      <td>Ethelred</td>\n    </tr>\n    <tr>\n      <th>9191</th>\n      <td>3907</td>\n      <td>2001-09-04</td>\n      <td>Double Jeopardy!</td>\n      <td>WON THE BATTLE</td>\n      <td>$800</td>\n      <td>This king of England beat the odds to trounce the French in the 1415 Battle of Agincourt</td>\n      <td>Henry V</td>\n    </tr>\n    <tr>\n      <th>13454</th>\n      <td>4726</td>\n      <td>2005-03-07</td>\n      <td>Jeopardy!</td>\n      <td>A NUMBER FROM 1 TO 10</td>\n      <td>$1000</td>\n      <td>It's the number that followed the last king of England named William</td>\n      <td>4</td>\n    </tr>\n    <tr>\n      <th>14912</th>\n      <td>2832</td>\n      <td>1996-12-17</td>\n      <td>Jeopardy!</td>\n      <td>WORLD HISTORY</td>\n      <td>$100</td>\n      <td>This country's King Louis IV was nicknamed \"Louis From Overseas\" because he was raised in England</td>\n      <td>France</td>\n    </tr>\n    <tr>\n      <th>18076</th>\n      <td>3227</td>\n      <td>1998-09-22</td>\n      <td>Double Jeopardy!</td>\n      <td>WORLD HISTORY</td>\n      <td>$1000</td>\n      <td>In 1199 this crusader king of England was mortally wounded while besieging the castle of Chalus</td>\n      <td>Richard the Lionhearted</td>\n    </tr>\n    <tr>\n      <th>...</th>\n      <td>...</td>\n      <td>...</td>\n      <td>...</td>\n      <td>...</td>\n      <td>...</td>\n      <td>...</td>\n      <td>...</td>\n    </tr>\n    <tr>\n      <th>200369</th>\n      <td>2937</td>\n      <td>1997-05-13</td>\n      <td>Jeopardy!</td>\n      <td>BRITISH HISTORY</td>\n      <td>$200</td>\n      <td>8th C. King Offa built a 170-mile north-south dike that still partly marks the border of England &amp; this country</td>\n      <td>Wales</td>\n    </tr>\n    <tr>\n      <th>201168</th>\n      <td>3515</td>\n      <td>1999-12-10</td>\n      <td>Jeopardy!</td>\n      <td>BEFORE &amp; AFTER</td>\n      <td>$500</td>\n      <td>Popular Saint-Exupery character waiting around to become king of England</td>\n      <td>The Little Prince of Wales</td>\n    </tr>\n    <tr>\n      <th>208742</th>\n      <td>4863</td>\n      <td>2005-11-02</td>\n      <td>Double Jeopardy!</td>\n      <td>BEFORE &amp; AFTER</td>\n      <td>$3,000</td>\n      <td>Dutch-born king who ruled England jointly with Mary II &amp; is a tasty New Zealand fish</td>\n      <td>William of Orange roughy</td>\n    </tr>\n    <tr>\n      <th>213870</th>\n      <td>5856</td>\n      <td>2010-02-15</td>\n      <td>Double Jeopardy!</td>\n      <td>URANUS</td>\n      <td>$1600</td>\n      <td>In 1781 William Herschel discovered Uranus &amp; initially named it after this king of England</td>\n      <td>George III</td>\n    </tr>\n    <tr>\n      <th>216021</th>\n      <td>1881</td>\n      <td>1992-11-09</td>\n      <td>Double Jeopardy!</td>\n      <td>HISTORIC NAMES</td>\n      <td>$1000</td>\n      <td>His nickname was \"Bertie\", but he used this name &amp; number when he became king of England in 1901</td>\n      <td>Edward VII</td>\n    </tr>\n  </tbody>\n</table>\n<p>74 rows × 7 columns</p>\n</div>"
     },
     "metadata": {},
     "output_type": "display_data"
    },
    {
     "data": {
      "text/plain": "829.7297297297297"
     },
     "execution_count": 42,
     "metadata": {},
     "output_type": "execute_result"
    }
   ],
   "source": [
    "jeopardy['value_float'] = jeopardy.value.apply(lambda x: int(x.replace(\"$\", \"\").replace(\",\", \"\")) if x != 'None' else 0).astype('int64')\n",
    "media_valor = jeopardy.value_float.mean()\n",
    "# Media geral dos valores totais\n",
    "print(media_valor)\n",
    "\n",
    "# Media das perguntas baseado na palavra ou no conjunto de palavras que o usuário desejar\n",
    "# Obs.: caso seja uma única palavra, passar ela como lista.\n",
    "def media_pontos_perguntas(dados, palavra_buscada):\n",
    "    df_word = busca_questoes_exata(dados, palavra_buscada)\n",
    "    display(df_word)\n",
    "    df_word['value_float'] = df_word.value.apply(lambda x: int(x.replace(\"$\", \"\").replace(\",\", \"\")) if x != 'None' else 0).astype('int64')\n",
    "    media_pontos = df_word.value_float.mean()\n",
    "    return media_pontos\n",
    "\n",
    "media_pontos_perguntas(jeopardy, [\"England\", \"King\"])"
   ]
  },
  {
   "cell_type": "markdown",
   "metadata": {},
   "source": [
    "5. Write a function that returns the count of unique answers to all of the questions in a dataset. For example, after filtering the entire dataset to only questions containing the word `\"King\"`, we could then find all of the unique answers to those questions. The answer \"Henry VIII\" appeared 55 times and was the most common answer."
   ]
  },
  {
   "cell_type": "code",
   "execution_count": null,
   "metadata": {},
   "outputs": [],
   "source": []
  },
  {
   "cell_type": "markdown",
   "metadata": {},
   "source": [
    "6. Explore from here! This is an incredibly rich dataset, and there are so many interesting things to discover. There are a few columns that we haven't even started looking at yet. Here are some ideas on ways to continue working with this data:\n",
    "\n",
    " * Investigate the ways in which questions change over time by filtering by the date. How many questions from the 90s use the word `\"Computer\"` compared to questions from the 2000s?\n",
    " * Is there a connection between the round and the category? Are you more likely to find certain categories, like `\"Literature\"` in Single Jeopardy or Double Jeopardy?\n",
    " * Build a system to quiz yourself. Grab random questions, and use the <a href=\"https://docs.python.org/3/library/functions.html#input\">input</a> function to get a response from the user. Check to see if that response was right or wrong."
   ]
  },
  {
   "cell_type": "code",
   "execution_count": null,
   "metadata": {},
   "outputs": [],
   "source": []
  },
  {
   "cell_type": "markdown",
   "metadata": {},
   "source": [
    "## Solution"
   ]
  },
  {
   "cell_type": "markdown",
   "metadata": {},
   "source": [
    "7. Compare your program to our <a href=\"https://content.codecademy.com/PRO/independent-practice-projects/jeopardy/jeopardy_solution.zip\">sample solution code</a> - remember, that your program might look different from ours (and probably will) and that's okay!"
   ]
  },
  {
   "cell_type": "markdown",
   "metadata": {},
   "source": [
    "8. Great work! Visit <a href=\"https://discuss.codecademy.com/t/this-is-jeopardy-challenge-project-python-pandas/462365\">our forums</a> to compare your project to our sample solution code. You can also learn how to host your own solution on GitHub so you can share it with other learners! Your solution might look different from ours, and that's okay! There are multiple ways to solve these projects, and you'll learn more by seeing others' code."
   ]
  },
  {
   "cell_type": "code",
   "execution_count": null,
   "metadata": {},
   "outputs": [],
   "source": []
  }
 ],
 "metadata": {
  "kernelspec": {
   "display_name": "Python 3 (ipykernel)",
   "language": "python",
   "name": "python3"
  },
  "language_info": {
   "codemirror_mode": {
    "name": "ipython",
    "version": 3
   },
   "file_extension": ".py",
   "mimetype": "text/x-python",
   "name": "python",
   "nbconvert_exporter": "python",
   "pygments_lexer": "ipython3",
   "version": "3.7.11"
  }
 },
 "nbformat": 4,
 "nbformat_minor": 2
}
