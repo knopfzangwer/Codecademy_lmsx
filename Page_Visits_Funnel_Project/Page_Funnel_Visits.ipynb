{
 "cells": [
  {
   "cell_type": "code",
   "execution_count": 38,
   "metadata": {},
   "outputs": [],
   "source": [
    "import pandas as pd"
   ]
  },
  {
   "cell_type": "markdown",
   "metadata": {},
   "source": [
    "Import all the files"
   ]
  },
  {
   "cell_type": "code",
   "execution_count": 39,
   "metadata": {},
   "outputs": [],
   "source": [
    "visits = pd.read_csv('visits.csv',\n",
    "                     parse_dates=[1])\n",
    "cart = pd.read_csv('cart.csv',\n",
    "                   parse_dates=[1])\n",
    "                   \n",
    "checkout = pd.read_csv('checkout.csv',\n",
    "                       parse_dates=[1])\n",
    "purchase = pd.read_csv('purchase.csv',\n",
    "                       parse_dates=[1])"
   ]
  },
  {
   "cell_type": "markdown",
   "metadata": {},
   "source": [
    "Step 1: Inspect the DataFrames using `print` and `head`"
   ]
  },
  {
   "cell_type": "code",
   "execution_count": 40,
   "metadata": {},
   "outputs": [
    {
     "data": {
      "text/plain": "                                user_id          visit_time\n0  943647ef-3682-4750-a2e1-918ba6f16188 2017-04-07 15:14:00\n1  0c3a3dd0-fb64-4eac-bf84-ba069ce409f2 2017-01-26 14:24:00\n2  6e0b2d60-4027-4d9a-babd-0e7d40859fb1 2017-08-20 08:23:00\n3  6879527e-c5a6-4d14-b2da-50b85212b0ab 2017-11-04 18:15:00\n4  a84327ff-5daa-4ba1-b789-d5b4caf81e96 2017-02-27 11:25:00",
      "text/html": "<div>\n<style scoped>\n    .dataframe tbody tr th:only-of-type {\n        vertical-align: middle;\n    }\n\n    .dataframe tbody tr th {\n        vertical-align: top;\n    }\n\n    .dataframe thead th {\n        text-align: right;\n    }\n</style>\n<table border=\"1\" class=\"dataframe\">\n  <thead>\n    <tr style=\"text-align: right;\">\n      <th></th>\n      <th>user_id</th>\n      <th>visit_time</th>\n    </tr>\n  </thead>\n  <tbody>\n    <tr>\n      <th>0</th>\n      <td>943647ef-3682-4750-a2e1-918ba6f16188</td>\n      <td>2017-04-07 15:14:00</td>\n    </tr>\n    <tr>\n      <th>1</th>\n      <td>0c3a3dd0-fb64-4eac-bf84-ba069ce409f2</td>\n      <td>2017-01-26 14:24:00</td>\n    </tr>\n    <tr>\n      <th>2</th>\n      <td>6e0b2d60-4027-4d9a-babd-0e7d40859fb1</td>\n      <td>2017-08-20 08:23:00</td>\n    </tr>\n    <tr>\n      <th>3</th>\n      <td>6879527e-c5a6-4d14-b2da-50b85212b0ab</td>\n      <td>2017-11-04 18:15:00</td>\n    </tr>\n    <tr>\n      <th>4</th>\n      <td>a84327ff-5daa-4ba1-b789-d5b4caf81e96</td>\n      <td>2017-02-27 11:25:00</td>\n    </tr>\n  </tbody>\n</table>\n</div>"
     },
     "metadata": {},
     "output_type": "display_data"
    },
    {
     "data": {
      "text/plain": "                                user_id           cart_time\n0  2be90e7c-9cca-44e0-bcc5-124b945ff168 2017-11-07 20:45:00\n1  4397f73f-1da3-4ab3-91af-762792e25973 2017-05-27 01:35:00\n2  a9db3d4b-0a0a-4398-a55a-ebb2c7adf663 2017-03-04 10:38:00\n3  b594862a-36c5-47d5-b818-6e9512b939b3 2017-09-27 08:22:00\n4  a68a16e2-94f0-4ce8-8ce3-784af0bbb974 2017-07-26 15:48:00",
      "text/html": "<div>\n<style scoped>\n    .dataframe tbody tr th:only-of-type {\n        vertical-align: middle;\n    }\n\n    .dataframe tbody tr th {\n        vertical-align: top;\n    }\n\n    .dataframe thead th {\n        text-align: right;\n    }\n</style>\n<table border=\"1\" class=\"dataframe\">\n  <thead>\n    <tr style=\"text-align: right;\">\n      <th></th>\n      <th>user_id</th>\n      <th>cart_time</th>\n    </tr>\n  </thead>\n  <tbody>\n    <tr>\n      <th>0</th>\n      <td>2be90e7c-9cca-44e0-bcc5-124b945ff168</td>\n      <td>2017-11-07 20:45:00</td>\n    </tr>\n    <tr>\n      <th>1</th>\n      <td>4397f73f-1da3-4ab3-91af-762792e25973</td>\n      <td>2017-05-27 01:35:00</td>\n    </tr>\n    <tr>\n      <th>2</th>\n      <td>a9db3d4b-0a0a-4398-a55a-ebb2c7adf663</td>\n      <td>2017-03-04 10:38:00</td>\n    </tr>\n    <tr>\n      <th>3</th>\n      <td>b594862a-36c5-47d5-b818-6e9512b939b3</td>\n      <td>2017-09-27 08:22:00</td>\n    </tr>\n    <tr>\n      <th>4</th>\n      <td>a68a16e2-94f0-4ce8-8ce3-784af0bbb974</td>\n      <td>2017-07-26 15:48:00</td>\n    </tr>\n  </tbody>\n</table>\n</div>"
     },
     "metadata": {},
     "output_type": "display_data"
    },
    {
     "data": {
      "text/plain": "                                user_id       checkout_time\n0  d33bdc47-4afa-45bc-b4e4-dbe948e34c0d 2017-06-25 09:29:00\n1  4ac186f0-9954-4fea-8a27-c081e428e34e 2017-04-07 20:11:00\n2  3c9c78a7-124a-4b77-8d2e-e1926e011e7d 2017-07-13 11:38:00\n3  89fe330a-8966-4756-8f7c-3bdbcd47279a 2017-04-20 16:15:00\n4  3ccdaf69-2d30-40de-b083-51372881aedd 2017-01-08 20:52:00",
      "text/html": "<div>\n<style scoped>\n    .dataframe tbody tr th:only-of-type {\n        vertical-align: middle;\n    }\n\n    .dataframe tbody tr th {\n        vertical-align: top;\n    }\n\n    .dataframe thead th {\n        text-align: right;\n    }\n</style>\n<table border=\"1\" class=\"dataframe\">\n  <thead>\n    <tr style=\"text-align: right;\">\n      <th></th>\n      <th>user_id</th>\n      <th>checkout_time</th>\n    </tr>\n  </thead>\n  <tbody>\n    <tr>\n      <th>0</th>\n      <td>d33bdc47-4afa-45bc-b4e4-dbe948e34c0d</td>\n      <td>2017-06-25 09:29:00</td>\n    </tr>\n    <tr>\n      <th>1</th>\n      <td>4ac186f0-9954-4fea-8a27-c081e428e34e</td>\n      <td>2017-04-07 20:11:00</td>\n    </tr>\n    <tr>\n      <th>2</th>\n      <td>3c9c78a7-124a-4b77-8d2e-e1926e011e7d</td>\n      <td>2017-07-13 11:38:00</td>\n    </tr>\n    <tr>\n      <th>3</th>\n      <td>89fe330a-8966-4756-8f7c-3bdbcd47279a</td>\n      <td>2017-04-20 16:15:00</td>\n    </tr>\n    <tr>\n      <th>4</th>\n      <td>3ccdaf69-2d30-40de-b083-51372881aedd</td>\n      <td>2017-01-08 20:52:00</td>\n    </tr>\n  </tbody>\n</table>\n</div>"
     },
     "metadata": {},
     "output_type": "display_data"
    },
    {
     "data": {
      "text/plain": "                                user_id       purchase_time\n0  4b44ace4-2721-47a0-b24b-15fbfa2abf85 2017-05-11 04:25:00\n1  02e684ae-a448-408f-a9ff-dcb4a5c99aac 2017-09-05 08:45:00\n2  4b4bc391-749e-4b90-ab8f-4f6e3c84d6dc 2017-11-20 20:49:00\n3  a5dbb25f-3c36-4103-9030-9f7c6241cd8d 2017-01-22 15:18:00\n4  46a3186d-7f5a-4ab9-87af-84d05bfd4867 2017-06-11 11:32:00",
      "text/html": "<div>\n<style scoped>\n    .dataframe tbody tr th:only-of-type {\n        vertical-align: middle;\n    }\n\n    .dataframe tbody tr th {\n        vertical-align: top;\n    }\n\n    .dataframe thead th {\n        text-align: right;\n    }\n</style>\n<table border=\"1\" class=\"dataframe\">\n  <thead>\n    <tr style=\"text-align: right;\">\n      <th></th>\n      <th>user_id</th>\n      <th>purchase_time</th>\n    </tr>\n  </thead>\n  <tbody>\n    <tr>\n      <th>0</th>\n      <td>4b44ace4-2721-47a0-b24b-15fbfa2abf85</td>\n      <td>2017-05-11 04:25:00</td>\n    </tr>\n    <tr>\n      <th>1</th>\n      <td>02e684ae-a448-408f-a9ff-dcb4a5c99aac</td>\n      <td>2017-09-05 08:45:00</td>\n    </tr>\n    <tr>\n      <th>2</th>\n      <td>4b4bc391-749e-4b90-ab8f-4f6e3c84d6dc</td>\n      <td>2017-11-20 20:49:00</td>\n    </tr>\n    <tr>\n      <th>3</th>\n      <td>a5dbb25f-3c36-4103-9030-9f7c6241cd8d</td>\n      <td>2017-01-22 15:18:00</td>\n    </tr>\n    <tr>\n      <th>4</th>\n      <td>46a3186d-7f5a-4ab9-87af-84d05bfd4867</td>\n      <td>2017-06-11 11:32:00</td>\n    </tr>\n  </tbody>\n</table>\n</div>"
     },
     "metadata": {},
     "output_type": "display_data"
    }
   ],
   "source": [
    "display(visits.head(5))\n",
    "display(cart.head(5))\n",
    "display(checkout.head(5))\n",
    "display(purchase.head(5))"
   ]
  },
  {
   "cell_type": "markdown",
   "metadata": {},
   "source": [
    "Step 2: Left merging visits and cart"
   ]
  },
  {
   "cell_type": "code",
   "execution_count": 41,
   "metadata": {},
   "outputs": [
    {
     "data": {
      "text/plain": "                                   user_id          visit_time  \\\n0     943647ef-3682-4750-a2e1-918ba6f16188 2017-04-07 15:14:00   \n1     0c3a3dd0-fb64-4eac-bf84-ba069ce409f2 2017-01-26 14:24:00   \n2     6e0b2d60-4027-4d9a-babd-0e7d40859fb1 2017-08-20 08:23:00   \n3     6879527e-c5a6-4d14-b2da-50b85212b0ab 2017-11-04 18:15:00   \n4     a84327ff-5daa-4ba1-b789-d5b4caf81e96 2017-02-27 11:25:00   \n...                                    ...                 ...   \n1995  33913ac2-03da-45ae-8fc3-fea39df827c6 2017-03-25 03:29:00   \n1996  4f850132-b99d-4623-80e6-6e61d003577e 2017-01-08 09:57:00   \n1997  f0830b9b-1f5c-4e74-b63d-3f847cc6ce70 2017-09-07 12:56:00   \n1998  b01bffa7-63ba-4cd3-9d93-eb1477c23831 2017-07-20 04:37:00   \n1999  0336ca81-8d68-443f-9248-ac0b8ad147d5 2017-11-15 10:11:00   \n\n               cart_time  \n0                    NaT  \n1    2017-01-26 14:44:00  \n2    2017-08-20 08:31:00  \n3                    NaT  \n4                    NaT  \n...                  ...  \n1995                 NaT  \n1996                 NaT  \n1997                 NaT  \n1998                 NaT  \n1999                 NaT  \n\n[2000 rows x 3 columns]",
      "text/html": "<div>\n<style scoped>\n    .dataframe tbody tr th:only-of-type {\n        vertical-align: middle;\n    }\n\n    .dataframe tbody tr th {\n        vertical-align: top;\n    }\n\n    .dataframe thead th {\n        text-align: right;\n    }\n</style>\n<table border=\"1\" class=\"dataframe\">\n  <thead>\n    <tr style=\"text-align: right;\">\n      <th></th>\n      <th>user_id</th>\n      <th>visit_time</th>\n      <th>cart_time</th>\n    </tr>\n  </thead>\n  <tbody>\n    <tr>\n      <th>0</th>\n      <td>943647ef-3682-4750-a2e1-918ba6f16188</td>\n      <td>2017-04-07 15:14:00</td>\n      <td>NaT</td>\n    </tr>\n    <tr>\n      <th>1</th>\n      <td>0c3a3dd0-fb64-4eac-bf84-ba069ce409f2</td>\n      <td>2017-01-26 14:24:00</td>\n      <td>2017-01-26 14:44:00</td>\n    </tr>\n    <tr>\n      <th>2</th>\n      <td>6e0b2d60-4027-4d9a-babd-0e7d40859fb1</td>\n      <td>2017-08-20 08:23:00</td>\n      <td>2017-08-20 08:31:00</td>\n    </tr>\n    <tr>\n      <th>3</th>\n      <td>6879527e-c5a6-4d14-b2da-50b85212b0ab</td>\n      <td>2017-11-04 18:15:00</td>\n      <td>NaT</td>\n    </tr>\n    <tr>\n      <th>4</th>\n      <td>a84327ff-5daa-4ba1-b789-d5b4caf81e96</td>\n      <td>2017-02-27 11:25:00</td>\n      <td>NaT</td>\n    </tr>\n    <tr>\n      <th>...</th>\n      <td>...</td>\n      <td>...</td>\n      <td>...</td>\n    </tr>\n    <tr>\n      <th>1995</th>\n      <td>33913ac2-03da-45ae-8fc3-fea39df827c6</td>\n      <td>2017-03-25 03:29:00</td>\n      <td>NaT</td>\n    </tr>\n    <tr>\n      <th>1996</th>\n      <td>4f850132-b99d-4623-80e6-6e61d003577e</td>\n      <td>2017-01-08 09:57:00</td>\n      <td>NaT</td>\n    </tr>\n    <tr>\n      <th>1997</th>\n      <td>f0830b9b-1f5c-4e74-b63d-3f847cc6ce70</td>\n      <td>2017-09-07 12:56:00</td>\n      <td>NaT</td>\n    </tr>\n    <tr>\n      <th>1998</th>\n      <td>b01bffa7-63ba-4cd3-9d93-eb1477c23831</td>\n      <td>2017-07-20 04:37:00</td>\n      <td>NaT</td>\n    </tr>\n    <tr>\n      <th>1999</th>\n      <td>0336ca81-8d68-443f-9248-ac0b8ad147d5</td>\n      <td>2017-11-15 10:11:00</td>\n      <td>NaT</td>\n    </tr>\n  </tbody>\n</table>\n<p>2000 rows × 3 columns</p>\n</div>"
     },
     "metadata": {},
     "output_type": "display_data"
    }
   ],
   "source": [
    "visits_cart = pd.merge(visits, cart, how=\"left\")\n",
    "display(visits_cart)"
   ]
  },
  {
   "cell_type": "markdown",
   "metadata": {},
   "source": [
    "Step 3: How long is `visits_cart`?"
   ]
  },
  {
   "cell_type": "code",
   "execution_count": 42,
   "metadata": {},
   "outputs": [
    {
     "name": "stdout",
     "output_type": "stream",
     "text": [
      "2000\n"
     ]
    }
   ],
   "source": [
    "print(len(visits_cart))"
   ]
  },
  {
   "cell_type": "markdown",
   "metadata": {},
   "source": [
    "Step 4: How many timestamps are null for `cart_time`?"
   ]
  },
  {
   "cell_type": "code",
   "execution_count": 43,
   "metadata": {},
   "outputs": [
    {
     "data": {
      "text/plain": "      index  cart_time\n0         0       True\n1         1      False\n2         2      False\n3         3       True\n4         4       True\n...     ...        ...\n1995   1995       True\n1996   1996       True\n1997   1997       True\n1998   1998       True\n1999   1999       True\n\n[2000 rows x 2 columns]",
      "text/html": "<div>\n<style scoped>\n    .dataframe tbody tr th:only-of-type {\n        vertical-align: middle;\n    }\n\n    .dataframe tbody tr th {\n        vertical-align: top;\n    }\n\n    .dataframe thead th {\n        text-align: right;\n    }\n</style>\n<table border=\"1\" class=\"dataframe\">\n  <thead>\n    <tr style=\"text-align: right;\">\n      <th></th>\n      <th>index</th>\n      <th>cart_time</th>\n    </tr>\n  </thead>\n  <tbody>\n    <tr>\n      <th>0</th>\n      <td>0</td>\n      <td>True</td>\n    </tr>\n    <tr>\n      <th>1</th>\n      <td>1</td>\n      <td>False</td>\n    </tr>\n    <tr>\n      <th>2</th>\n      <td>2</td>\n      <td>False</td>\n    </tr>\n    <tr>\n      <th>3</th>\n      <td>3</td>\n      <td>True</td>\n    </tr>\n    <tr>\n      <th>4</th>\n      <td>4</td>\n      <td>True</td>\n    </tr>\n    <tr>\n      <th>...</th>\n      <td>...</td>\n      <td>...</td>\n    </tr>\n    <tr>\n      <th>1995</th>\n      <td>1995</td>\n      <td>True</td>\n    </tr>\n    <tr>\n      <th>1996</th>\n      <td>1996</td>\n      <td>True</td>\n    </tr>\n    <tr>\n      <th>1997</th>\n      <td>1997</td>\n      <td>True</td>\n    </tr>\n    <tr>\n      <th>1998</th>\n      <td>1998</td>\n      <td>True</td>\n    </tr>\n    <tr>\n      <th>1999</th>\n      <td>1999</td>\n      <td>True</td>\n    </tr>\n  </tbody>\n</table>\n<p>2000 rows × 2 columns</p>\n</div>"
     },
     "metadata": {},
     "output_type": "display_data"
    },
    {
     "name": "stdout",
     "output_type": "stream",
     "text": [
      "index        1652\n",
      "cart_time    1652\n",
      "dtype: int64\n"
     ]
    }
   ],
   "source": [
    "t_null_data = visits_cart.cart_time.isnull().reset_index()\n",
    "display(t_null_data)\n",
    "t_null = t_null_data[t_null_data['cart_time'] == True].count()\n",
    "print(t_null)"
   ]
  },
  {
   "cell_type": "markdown",
   "metadata": {},
   "source": [
    "Step 5: What percent of users who visited Cool T-Shirts Inc. ended up not placing a t-shirt in their cart?"
   ]
  },
  {
   "cell_type": "code",
   "execution_count": 68,
   "metadata": {},
   "outputs": [
    {
     "name": "stdout",
     "output_type": "stream",
     "text": [
      "82.60% das pessoas apenas visitaram o site.\n",
      "17.40% das pessoas prosseguiram com algum item para o carrinho.\n"
     ]
    }
   ],
   "source": [
    "percentage_not_cart = (t_null_data[t_null_data['cart_time'] == True].count()) / (visits_cart['user_id'].count())\n",
    "percentage_not_cart = percentage_not_cart[0]\n",
    "percent_in_cart = 1 - percentage_not_cart\n",
    "print(\"{:.2f}% das pessoas apenas visitaram o site.\".format(percentage_not_cart * 100))\n",
    "print(\"{:.2f}% das pessoas prosseguiram com algum item para o carrinho.\".format(percent_in_cart * 100))"
   ]
  },
  {
   "cell_type": "markdown",
   "metadata": {},
   "source": [
    "Step 6: What percentage placed a t-shirt in their cart but did not checkout?"
   ]
  },
  {
   "cell_type": "code",
   "execution_count": 71,
   "metadata": {},
   "outputs": [
    {
     "data": {
      "text/plain": "                                  user_id           cart_time  \\\n0    2be90e7c-9cca-44e0-bcc5-124b945ff168 2017-11-07 20:45:00   \n1    4397f73f-1da3-4ab3-91af-762792e25973 2017-05-27 01:35:00   \n2    a9db3d4b-0a0a-4398-a55a-ebb2c7adf663 2017-03-04 10:38:00   \n3    b594862a-36c5-47d5-b818-6e9512b939b3 2017-09-27 08:22:00   \n4    a68a16e2-94f0-4ce8-8ce3-784af0bbb974 2017-07-26 15:48:00   \n..                                    ...                 ...   \n343  952be3a5-9240-484f-845c-a6b2cbed72ee 2017-05-02 05:40:00   \n344  59d2b685-383a-4fce-a325-35d985713a8b 2017-01-20 03:58:00   \n345  a1203970-92ae-4fc7-843e-e1740c1be9d5 2017-11-12 23:07:00   \n346  55de53ae-89f6-43ff-a26d-df284678aca1 2017-03-17 19:56:00   \n347  0ea4cc68-dae4-4e35-b3e0-f0889932e1b5 2017-05-12 08:53:00   \n\n          checkout_time  \n0   2017-11-07 21:14:00  \n1                   NaT  \n2   2017-03-04 11:04:00  \n3   2017-09-27 08:26:00  \n4                   NaT  \n..                  ...  \n343 2017-05-02 05:50:00  \n344                 NaT  \n345                 NaT  \n346 2017-03-17 20:04:00  \n347 2017-05-12 08:57:00  \n\n[348 rows x 3 columns]",
      "text/html": "<div>\n<style scoped>\n    .dataframe tbody tr th:only-of-type {\n        vertical-align: middle;\n    }\n\n    .dataframe tbody tr th {\n        vertical-align: top;\n    }\n\n    .dataframe thead th {\n        text-align: right;\n    }\n</style>\n<table border=\"1\" class=\"dataframe\">\n  <thead>\n    <tr style=\"text-align: right;\">\n      <th></th>\n      <th>user_id</th>\n      <th>cart_time</th>\n      <th>checkout_time</th>\n    </tr>\n  </thead>\n  <tbody>\n    <tr>\n      <th>0</th>\n      <td>2be90e7c-9cca-44e0-bcc5-124b945ff168</td>\n      <td>2017-11-07 20:45:00</td>\n      <td>2017-11-07 21:14:00</td>\n    </tr>\n    <tr>\n      <th>1</th>\n      <td>4397f73f-1da3-4ab3-91af-762792e25973</td>\n      <td>2017-05-27 01:35:00</td>\n      <td>NaT</td>\n    </tr>\n    <tr>\n      <th>2</th>\n      <td>a9db3d4b-0a0a-4398-a55a-ebb2c7adf663</td>\n      <td>2017-03-04 10:38:00</td>\n      <td>2017-03-04 11:04:00</td>\n    </tr>\n    <tr>\n      <th>3</th>\n      <td>b594862a-36c5-47d5-b818-6e9512b939b3</td>\n      <td>2017-09-27 08:22:00</td>\n      <td>2017-09-27 08:26:00</td>\n    </tr>\n    <tr>\n      <th>4</th>\n      <td>a68a16e2-94f0-4ce8-8ce3-784af0bbb974</td>\n      <td>2017-07-26 15:48:00</td>\n      <td>NaT</td>\n    </tr>\n    <tr>\n      <th>...</th>\n      <td>...</td>\n      <td>...</td>\n      <td>...</td>\n    </tr>\n    <tr>\n      <th>343</th>\n      <td>952be3a5-9240-484f-845c-a6b2cbed72ee</td>\n      <td>2017-05-02 05:40:00</td>\n      <td>2017-05-02 05:50:00</td>\n    </tr>\n    <tr>\n      <th>344</th>\n      <td>59d2b685-383a-4fce-a325-35d985713a8b</td>\n      <td>2017-01-20 03:58:00</td>\n      <td>NaT</td>\n    </tr>\n    <tr>\n      <th>345</th>\n      <td>a1203970-92ae-4fc7-843e-e1740c1be9d5</td>\n      <td>2017-11-12 23:07:00</td>\n      <td>NaT</td>\n    </tr>\n    <tr>\n      <th>346</th>\n      <td>55de53ae-89f6-43ff-a26d-df284678aca1</td>\n      <td>2017-03-17 19:56:00</td>\n      <td>2017-03-17 20:04:00</td>\n    </tr>\n    <tr>\n      <th>347</th>\n      <td>0ea4cc68-dae4-4e35-b3e0-f0889932e1b5</td>\n      <td>2017-05-12 08:53:00</td>\n      <td>2017-05-12 08:57:00</td>\n    </tr>\n  </tbody>\n</table>\n<p>348 rows × 3 columns</p>\n</div>"
     },
     "metadata": {},
     "output_type": "display_data"
    },
    {
     "name": "stdout",
     "output_type": "stream",
     "text": [
      "35.06% das pessoas colocaram o item no carrinho mas não fizeram checkout do item.\n",
      "64.94% das pessoas prosseguiram com algum item para o checkout.\n"
     ]
    }
   ],
   "source": [
    "cart_checkouts = pd.merge(cart, checkout, how='left')\n",
    "display(cart_checkouts)\n",
    "t_null_checkouts = cart_checkouts.checkout_time.isnull().reset_index()\n",
    "# display(t_null_checkouts)\n",
    "checkout_null_count = t_null_checkouts[t_null_checkouts['checkout_time'] == True].count()\n",
    "# print(checkout_null_count)\n",
    "\n",
    "percentage_not_checkout = (t_null_checkouts[t_null_checkouts['checkout_time'] == True].count()) / (t_null_checkouts['checkout_time'].count())\n",
    "percentage_not_checkout = percentage_not_checkout[0]\n",
    "percent_in_checkout = 1 - percentage_not_checkout\n",
    "print(\"{:.2f}% das pessoas colocaram o item no carrinho mas não fizeram checkout do item.\".format(percentage_not_checkout * 100))\n",
    "print(\"{:.2f}% das pessoas que colocaram o item no carrinho prosseguiram para o checkout.\".format(percent_in_checkout * 100))"
   ]
  },
  {
   "cell_type": "markdown",
   "metadata": {},
   "source": [
    "Step 7: Merge all four steps of the funnel, in order, using a series of left merges. Save the results to the variable all_data"
   ]
  },
  {
   "cell_type": "code",
   "execution_count": 51,
   "metadata": {},
   "outputs": [
    {
     "data": {
      "text/plain": "                                   user_id          visit_time  \\\n0     943647ef-3682-4750-a2e1-918ba6f16188 2017-04-07 15:14:00   \n1     0c3a3dd0-fb64-4eac-bf84-ba069ce409f2 2017-01-26 14:24:00   \n2     6e0b2d60-4027-4d9a-babd-0e7d40859fb1 2017-08-20 08:23:00   \n3     6879527e-c5a6-4d14-b2da-50b85212b0ab 2017-11-04 18:15:00   \n4     a84327ff-5daa-4ba1-b789-d5b4caf81e96 2017-02-27 11:25:00   \n...                                    ...                 ...   \n2103  33913ac2-03da-45ae-8fc3-fea39df827c6 2017-03-25 03:29:00   \n2104  4f850132-b99d-4623-80e6-6e61d003577e 2017-01-08 09:57:00   \n2105  f0830b9b-1f5c-4e74-b63d-3f847cc6ce70 2017-09-07 12:56:00   \n2106  b01bffa7-63ba-4cd3-9d93-eb1477c23831 2017-07-20 04:37:00   \n2107  0336ca81-8d68-443f-9248-ac0b8ad147d5 2017-11-15 10:11:00   \n\n               cart_time       checkout_time       purchase_time  \n0                    NaT                 NaT                 NaT  \n1    2017-01-26 14:44:00 2017-01-26 14:54:00 2017-01-26 15:08:00  \n2    2017-08-20 08:31:00                 NaT                 NaT  \n3                    NaT                 NaT                 NaT  \n4                    NaT                 NaT                 NaT  \n...                  ...                 ...                 ...  \n2103                 NaT                 NaT                 NaT  \n2104                 NaT                 NaT                 NaT  \n2105                 NaT                 NaT                 NaT  \n2106                 NaT                 NaT                 NaT  \n2107                 NaT                 NaT                 NaT  \n\n[2108 rows x 5 columns]",
      "text/html": "<div>\n<style scoped>\n    .dataframe tbody tr th:only-of-type {\n        vertical-align: middle;\n    }\n\n    .dataframe tbody tr th {\n        vertical-align: top;\n    }\n\n    .dataframe thead th {\n        text-align: right;\n    }\n</style>\n<table border=\"1\" class=\"dataframe\">\n  <thead>\n    <tr style=\"text-align: right;\">\n      <th></th>\n      <th>user_id</th>\n      <th>visit_time</th>\n      <th>cart_time</th>\n      <th>checkout_time</th>\n      <th>purchase_time</th>\n    </tr>\n  </thead>\n  <tbody>\n    <tr>\n      <th>0</th>\n      <td>943647ef-3682-4750-a2e1-918ba6f16188</td>\n      <td>2017-04-07 15:14:00</td>\n      <td>NaT</td>\n      <td>NaT</td>\n      <td>NaT</td>\n    </tr>\n    <tr>\n      <th>1</th>\n      <td>0c3a3dd0-fb64-4eac-bf84-ba069ce409f2</td>\n      <td>2017-01-26 14:24:00</td>\n      <td>2017-01-26 14:44:00</td>\n      <td>2017-01-26 14:54:00</td>\n      <td>2017-01-26 15:08:00</td>\n    </tr>\n    <tr>\n      <th>2</th>\n      <td>6e0b2d60-4027-4d9a-babd-0e7d40859fb1</td>\n      <td>2017-08-20 08:23:00</td>\n      <td>2017-08-20 08:31:00</td>\n      <td>NaT</td>\n      <td>NaT</td>\n    </tr>\n    <tr>\n      <th>3</th>\n      <td>6879527e-c5a6-4d14-b2da-50b85212b0ab</td>\n      <td>2017-11-04 18:15:00</td>\n      <td>NaT</td>\n      <td>NaT</td>\n      <td>NaT</td>\n    </tr>\n    <tr>\n      <th>4</th>\n      <td>a84327ff-5daa-4ba1-b789-d5b4caf81e96</td>\n      <td>2017-02-27 11:25:00</td>\n      <td>NaT</td>\n      <td>NaT</td>\n      <td>NaT</td>\n    </tr>\n    <tr>\n      <th>...</th>\n      <td>...</td>\n      <td>...</td>\n      <td>...</td>\n      <td>...</td>\n      <td>...</td>\n    </tr>\n    <tr>\n      <th>2103</th>\n      <td>33913ac2-03da-45ae-8fc3-fea39df827c6</td>\n      <td>2017-03-25 03:29:00</td>\n      <td>NaT</td>\n      <td>NaT</td>\n      <td>NaT</td>\n    </tr>\n    <tr>\n      <th>2104</th>\n      <td>4f850132-b99d-4623-80e6-6e61d003577e</td>\n      <td>2017-01-08 09:57:00</td>\n      <td>NaT</td>\n      <td>NaT</td>\n      <td>NaT</td>\n    </tr>\n    <tr>\n      <th>2105</th>\n      <td>f0830b9b-1f5c-4e74-b63d-3f847cc6ce70</td>\n      <td>2017-09-07 12:56:00</td>\n      <td>NaT</td>\n      <td>NaT</td>\n      <td>NaT</td>\n    </tr>\n    <tr>\n      <th>2106</th>\n      <td>b01bffa7-63ba-4cd3-9d93-eb1477c23831</td>\n      <td>2017-07-20 04:37:00</td>\n      <td>NaT</td>\n      <td>NaT</td>\n      <td>NaT</td>\n    </tr>\n    <tr>\n      <th>2107</th>\n      <td>0336ca81-8d68-443f-9248-ac0b8ad147d5</td>\n      <td>2017-11-15 10:11:00</td>\n      <td>NaT</td>\n      <td>NaT</td>\n      <td>NaT</td>\n    </tr>\n  </tbody>\n</table>\n<p>2108 rows × 5 columns</p>\n</div>"
     },
     "metadata": {},
     "output_type": "display_data"
    }
   ],
   "source": [
    "all_data = visits.merge(cart, how='left').merge(checkout, how='left').merge(purchase, how='left')\n",
    "display(all_data)"
   ]
  },
  {
   "cell_type": "markdown",
   "metadata": {},
   "source": [
    "Step 8: % of users who got to checkout but did not purchase"
   ]
  },
  {
   "cell_type": "code",
   "execution_count": 77,
   "metadata": {},
   "outputs": [
    {
     "data": {
      "text/plain": "                                   user_id          visit_time  \\\n31    1868e912-b38c-4ef0-8824-5665c42288e5 2017-03-17 11:48:00   \n54    dc5d8fe9-3321-4c86-b66d-7c343decdc4a 2017-09-13 13:06:00   \n146   fffc2dfc-fdc1-407a-9c6d-e6507157d1a6 2017-07-03 19:20:00   \n151   0182a7b9-2099-4476-8f7d-51f2c2f71dff 2017-09-08 16:26:00   \n161   2faac6a9-974c-49fb-b815-44f3a5fc06e1 2017-03-27 21:51:00   \n...                                    ...                 ...   \n2024  61916219-9600-4c72-93fc-666dd9285fb9 2017-01-04 05:20:00   \n2037  699acf1d-b5e0-4573-a54b-97ecd4c93572 2017-08-19 08:09:00   \n2056  4686af83-e275-49f7-a82b-c32f3521372a 2017-09-23 16:46:00   \n2070  3a6487df-d934-4d28-b531-1166621eb7db 2017-08-12 17:59:00   \n2078  5cda3654-faab-4432-ae28-0edca81de2f5 2017-08-23 08:29:00   \n\n               cart_time       checkout_time purchase_time  \n31   2017-03-17 11:56:00 2017-03-17 11:58:00           NaT  \n54   2017-09-13 13:30:00 2017-09-13 13:26:00           NaT  \n146  2017-07-03 19:40:00 2017-07-03 19:51:00           NaT  \n151  2017-09-08 16:34:00 2017-09-08 16:59:00           NaT  \n161  2017-03-27 21:54:00 2017-03-27 22:19:00           NaT  \n...                  ...                 ...           ...  \n2024 2017-01-04 05:23:00 2017-01-04 05:32:00           NaT  \n2037 2017-08-19 08:32:00 2017-08-19 08:56:00           NaT  \n2056 2017-09-23 16:55:00 2017-09-23 17:16:00           NaT  \n2070 2017-08-12 18:10:00 2017-08-12 18:17:00           NaT  \n2078 2017-08-23 08:55:00 2017-08-23 09:05:00           NaT  \n\n[82 rows x 5 columns]",
      "text/html": "<div>\n<style scoped>\n    .dataframe tbody tr th:only-of-type {\n        vertical-align: middle;\n    }\n\n    .dataframe tbody tr th {\n        vertical-align: top;\n    }\n\n    .dataframe thead th {\n        text-align: right;\n    }\n</style>\n<table border=\"1\" class=\"dataframe\">\n  <thead>\n    <tr style=\"text-align: right;\">\n      <th></th>\n      <th>user_id</th>\n      <th>visit_time</th>\n      <th>cart_time</th>\n      <th>checkout_time</th>\n      <th>purchase_time</th>\n    </tr>\n  </thead>\n  <tbody>\n    <tr>\n      <th>31</th>\n      <td>1868e912-b38c-4ef0-8824-5665c42288e5</td>\n      <td>2017-03-17 11:48:00</td>\n      <td>2017-03-17 11:56:00</td>\n      <td>2017-03-17 11:58:00</td>\n      <td>NaT</td>\n    </tr>\n    <tr>\n      <th>54</th>\n      <td>dc5d8fe9-3321-4c86-b66d-7c343decdc4a</td>\n      <td>2017-09-13 13:06:00</td>\n      <td>2017-09-13 13:30:00</td>\n      <td>2017-09-13 13:26:00</td>\n      <td>NaT</td>\n    </tr>\n    <tr>\n      <th>146</th>\n      <td>fffc2dfc-fdc1-407a-9c6d-e6507157d1a6</td>\n      <td>2017-07-03 19:20:00</td>\n      <td>2017-07-03 19:40:00</td>\n      <td>2017-07-03 19:51:00</td>\n      <td>NaT</td>\n    </tr>\n    <tr>\n      <th>151</th>\n      <td>0182a7b9-2099-4476-8f7d-51f2c2f71dff</td>\n      <td>2017-09-08 16:26:00</td>\n      <td>2017-09-08 16:34:00</td>\n      <td>2017-09-08 16:59:00</td>\n      <td>NaT</td>\n    </tr>\n    <tr>\n      <th>161</th>\n      <td>2faac6a9-974c-49fb-b815-44f3a5fc06e1</td>\n      <td>2017-03-27 21:51:00</td>\n      <td>2017-03-27 21:54:00</td>\n      <td>2017-03-27 22:19:00</td>\n      <td>NaT</td>\n    </tr>\n    <tr>\n      <th>...</th>\n      <td>...</td>\n      <td>...</td>\n      <td>...</td>\n      <td>...</td>\n      <td>...</td>\n    </tr>\n    <tr>\n      <th>2024</th>\n      <td>61916219-9600-4c72-93fc-666dd9285fb9</td>\n      <td>2017-01-04 05:20:00</td>\n      <td>2017-01-04 05:23:00</td>\n      <td>2017-01-04 05:32:00</td>\n      <td>NaT</td>\n    </tr>\n    <tr>\n      <th>2037</th>\n      <td>699acf1d-b5e0-4573-a54b-97ecd4c93572</td>\n      <td>2017-08-19 08:09:00</td>\n      <td>2017-08-19 08:32:00</td>\n      <td>2017-08-19 08:56:00</td>\n      <td>NaT</td>\n    </tr>\n    <tr>\n      <th>2056</th>\n      <td>4686af83-e275-49f7-a82b-c32f3521372a</td>\n      <td>2017-09-23 16:46:00</td>\n      <td>2017-09-23 16:55:00</td>\n      <td>2017-09-23 17:16:00</td>\n      <td>NaT</td>\n    </tr>\n    <tr>\n      <th>2070</th>\n      <td>3a6487df-d934-4d28-b531-1166621eb7db</td>\n      <td>2017-08-12 17:59:00</td>\n      <td>2017-08-12 18:10:00</td>\n      <td>2017-08-12 18:17:00</td>\n      <td>NaT</td>\n    </tr>\n    <tr>\n      <th>2078</th>\n      <td>5cda3654-faab-4432-ae28-0edca81de2f5</td>\n      <td>2017-08-23 08:29:00</td>\n      <td>2017-08-23 08:55:00</td>\n      <td>2017-08-23 09:05:00</td>\n      <td>NaT</td>\n    </tr>\n  </tbody>\n</table>\n<p>82 rows × 5 columns</p>\n</div>"
     },
     "metadata": {},
     "output_type": "display_data"
    },
    {
     "name": "stdout",
     "output_type": "stream",
     "text": [
      "24.55% das pessoas fizeram o checkout do item, porém não compraram.\n",
      "75.45% das pessoas fizeram o checkout do item e compraram.\n"
     ]
    }
   ],
   "source": [
    "# print(all_data['checkout_time'].info())\n",
    "user_checkout_not_purchase = all_data[(all_data['checkout_time'].notnull()) & (all_data['purchase_time'].isnull())]\n",
    "display(user_checkout_not_purchase)\n",
    "percentage_not_purchase = (user_checkout_not_purchase['checkout_time'].count()) / (all_data['checkout_time'].count())\n",
    "print(\"{:.2f}% das pessoas fizeram o checkout do item, porém não compraram.\".format(percentage_not_purchase * 100))\n",
    "print(\"{:.2f}% das pessoas fizeram o checkout do item e compraram.\".format((1 - percentage_not_purchase) * 100))"
   ]
  },
  {
   "cell_type": "markdown",
   "metadata": {},
   "source": [
    "Step 9: check each part of the funnel, let's print all 3 of them again"
   ]
  },
  {
   "cell_type": "code",
   "execution_count": 78,
   "metadata": {},
   "outputs": [
    {
     "name": "stdout",
     "output_type": "stream",
     "text": [
      "82.60% das pessoas apenas visitaram o site.\n",
      "35.06% das pessoas colocaram o item no carrinho mas não fizeram checkout do item.\n",
      "24.55% das pessoas fizeram o checkout do item, porém não compraram.\n"
     ]
    }
   ],
   "source": [
    "print(\"{:.2f}% das pessoas apenas visitaram o site.\".format(percentage_not_cart * 100))\n",
    "print(\"{:.2f}% das pessoas colocaram o item no carrinho mas não fizeram checkout do item.\".format(percentage_not_checkout * 100))\n",
    "print(\"{:.2f}% das pessoas fizeram o checkout do item, porém não compraram.\".format(percentage_not_purchase * 100))"
   ]
  },
  {
   "cell_type": "markdown",
   "metadata": {},
   "source": [
    "*The weakest part of the funnel is clearly getting a person who visited the site to add a tshirt to their cart. Once they've added a t-shirt to their cart it is fairly likely they end up purchasing it. A suggestion could be to make the add-to-cart button more prominent on the front page.*\n",
    "\n",
    "\n",
    "Step 10: Using the giant merged DataFrame all_data that you created, let’s calculate the average time from initial visit to final purchase. Add a column that is the difference between purchase_time and visit_time."
   ]
  },
  {
   "cell_type": "code",
   "execution_count": 79,
   "metadata": {},
   "outputs": [],
   "source": [
    "all_data[\"average_time_to_purchase\"] = (all_data['purchase_time'] - all_data['visit_time'])"
   ]
  },
  {
   "cell_type": "markdown",
   "metadata": {},
   "source": [
    "Step 11: Examine the results by printing the new column to the screen."
   ]
  },
  {
   "cell_type": "code",
   "execution_count": 80,
   "metadata": {},
   "outputs": [
    {
     "data": {
      "text/plain": "                                   user_id          visit_time  \\\n0     943647ef-3682-4750-a2e1-918ba6f16188 2017-04-07 15:14:00   \n1     0c3a3dd0-fb64-4eac-bf84-ba069ce409f2 2017-01-26 14:24:00   \n2     6e0b2d60-4027-4d9a-babd-0e7d40859fb1 2017-08-20 08:23:00   \n3     6879527e-c5a6-4d14-b2da-50b85212b0ab 2017-11-04 18:15:00   \n4     a84327ff-5daa-4ba1-b789-d5b4caf81e96 2017-02-27 11:25:00   \n...                                    ...                 ...   \n2103  33913ac2-03da-45ae-8fc3-fea39df827c6 2017-03-25 03:29:00   \n2104  4f850132-b99d-4623-80e6-6e61d003577e 2017-01-08 09:57:00   \n2105  f0830b9b-1f5c-4e74-b63d-3f847cc6ce70 2017-09-07 12:56:00   \n2106  b01bffa7-63ba-4cd3-9d93-eb1477c23831 2017-07-20 04:37:00   \n2107  0336ca81-8d68-443f-9248-ac0b8ad147d5 2017-11-15 10:11:00   \n\n               cart_time       checkout_time       purchase_time  \\\n0                    NaT                 NaT                 NaT   \n1    2017-01-26 14:44:00 2017-01-26 14:54:00 2017-01-26 15:08:00   \n2    2017-08-20 08:31:00                 NaT                 NaT   \n3                    NaT                 NaT                 NaT   \n4                    NaT                 NaT                 NaT   \n...                  ...                 ...                 ...   \n2103                 NaT                 NaT                 NaT   \n2104                 NaT                 NaT                 NaT   \n2105                 NaT                 NaT                 NaT   \n2106                 NaT                 NaT                 NaT   \n2107                 NaT                 NaT                 NaT   \n\n     average_time_to_purchase  \n0                         NaT  \n1             0 days 00:44:00  \n2                         NaT  \n3                         NaT  \n4                         NaT  \n...                       ...  \n2103                      NaT  \n2104                      NaT  \n2105                      NaT  \n2106                      NaT  \n2107                      NaT  \n\n[2108 rows x 6 columns]",
      "text/html": "<div>\n<style scoped>\n    .dataframe tbody tr th:only-of-type {\n        vertical-align: middle;\n    }\n\n    .dataframe tbody tr th {\n        vertical-align: top;\n    }\n\n    .dataframe thead th {\n        text-align: right;\n    }\n</style>\n<table border=\"1\" class=\"dataframe\">\n  <thead>\n    <tr style=\"text-align: right;\">\n      <th></th>\n      <th>user_id</th>\n      <th>visit_time</th>\n      <th>cart_time</th>\n      <th>checkout_time</th>\n      <th>purchase_time</th>\n      <th>average_time_to_purchase</th>\n    </tr>\n  </thead>\n  <tbody>\n    <tr>\n      <th>0</th>\n      <td>943647ef-3682-4750-a2e1-918ba6f16188</td>\n      <td>2017-04-07 15:14:00</td>\n      <td>NaT</td>\n      <td>NaT</td>\n      <td>NaT</td>\n      <td>NaT</td>\n    </tr>\n    <tr>\n      <th>1</th>\n      <td>0c3a3dd0-fb64-4eac-bf84-ba069ce409f2</td>\n      <td>2017-01-26 14:24:00</td>\n      <td>2017-01-26 14:44:00</td>\n      <td>2017-01-26 14:54:00</td>\n      <td>2017-01-26 15:08:00</td>\n      <td>0 days 00:44:00</td>\n    </tr>\n    <tr>\n      <th>2</th>\n      <td>6e0b2d60-4027-4d9a-babd-0e7d40859fb1</td>\n      <td>2017-08-20 08:23:00</td>\n      <td>2017-08-20 08:31:00</td>\n      <td>NaT</td>\n      <td>NaT</td>\n      <td>NaT</td>\n    </tr>\n    <tr>\n      <th>3</th>\n      <td>6879527e-c5a6-4d14-b2da-50b85212b0ab</td>\n      <td>2017-11-04 18:15:00</td>\n      <td>NaT</td>\n      <td>NaT</td>\n      <td>NaT</td>\n      <td>NaT</td>\n    </tr>\n    <tr>\n      <th>4</th>\n      <td>a84327ff-5daa-4ba1-b789-d5b4caf81e96</td>\n      <td>2017-02-27 11:25:00</td>\n      <td>NaT</td>\n      <td>NaT</td>\n      <td>NaT</td>\n      <td>NaT</td>\n    </tr>\n    <tr>\n      <th>...</th>\n      <td>...</td>\n      <td>...</td>\n      <td>...</td>\n      <td>...</td>\n      <td>...</td>\n      <td>...</td>\n    </tr>\n    <tr>\n      <th>2103</th>\n      <td>33913ac2-03da-45ae-8fc3-fea39df827c6</td>\n      <td>2017-03-25 03:29:00</td>\n      <td>NaT</td>\n      <td>NaT</td>\n      <td>NaT</td>\n      <td>NaT</td>\n    </tr>\n    <tr>\n      <th>2104</th>\n      <td>4f850132-b99d-4623-80e6-6e61d003577e</td>\n      <td>2017-01-08 09:57:00</td>\n      <td>NaT</td>\n      <td>NaT</td>\n      <td>NaT</td>\n      <td>NaT</td>\n    </tr>\n    <tr>\n      <th>2105</th>\n      <td>f0830b9b-1f5c-4e74-b63d-3f847cc6ce70</td>\n      <td>2017-09-07 12:56:00</td>\n      <td>NaT</td>\n      <td>NaT</td>\n      <td>NaT</td>\n      <td>NaT</td>\n    </tr>\n    <tr>\n      <th>2106</th>\n      <td>b01bffa7-63ba-4cd3-9d93-eb1477c23831</td>\n      <td>2017-07-20 04:37:00</td>\n      <td>NaT</td>\n      <td>NaT</td>\n      <td>NaT</td>\n      <td>NaT</td>\n    </tr>\n    <tr>\n      <th>2107</th>\n      <td>0336ca81-8d68-443f-9248-ac0b8ad147d5</td>\n      <td>2017-11-15 10:11:00</td>\n      <td>NaT</td>\n      <td>NaT</td>\n      <td>NaT</td>\n      <td>NaT</td>\n    </tr>\n  </tbody>\n</table>\n<p>2108 rows × 6 columns</p>\n</div>"
     },
     "metadata": {},
     "output_type": "display_data"
    }
   ],
   "source": [
    "display(all_data)"
   ]
  },
  {
   "cell_type": "markdown",
   "metadata": {},
   "source": [
    "Step 12: Calculate the average time to purchase by applying the .mean() function to your new column."
   ]
  },
  {
   "cell_type": "code",
   "execution_count": 81,
   "metadata": {},
   "outputs": [
    {
     "name": "stdout",
     "output_type": "stream",
     "text": [
      "0 days 00:43:12.380952380\n"
     ]
    }
   ],
   "source": [
    "average_time_buy = all_data[\"average_time_to_purchase\"].mean()\n",
    "print(average_time_buy)"
   ]
  }
 ],
 "metadata": {
  "kernelspec": {
   "display_name": "Python 3 (ipykernel)",
   "language": "python",
   "name": "python3"
  },
  "language_info": {
   "codemirror_mode": {
    "name": "ipython",
    "version": 3
   },
   "file_extension": ".py",
   "mimetype": "text/x-python",
   "name": "python",
   "nbconvert_exporter": "python",
   "pygments_lexer": "ipython3",
   "version": "3.10.8"
  }
 },
 "nbformat": 4,
 "nbformat_minor": 4
}
